{
 "cells": [
  {
   "cell_type": "markdown",
   "metadata": {},
   "source": [
    "# Task 1.3 – Welcome to Python programming!\n",
    "\n",
    "This is a **Jupyter notebook**. It is a powerful tool, that permits you to\n",
    "\n",
    "- write **Python code**,\n",
    "- gather your **analysis results**,\n",
    "- and document your **ideas**, **observations**, and **conclusions**\n",
    "\n",
    "in a **single self-contained environment**!\n",
    "\n",
    "## Notebook Structure\n",
    "\n",
    "Each notebook consists of a sequence of so-called **cells**. Think of a cell as a *page* of your notebook. Each cell has a *type*, which usually is either **Code** or **Markdown**. Code cells permit you to write (and execute!) Python code. They consist of an *Input* section, where you write your code, and an *Output* section, which displays errors and execution results. Markdown cells are for writing **documentation**. This is very important since it helps you to keep your notebook organized, such that you (and others) will understand what you were doing when you conducted a specific analysis.\n",
    "\n",
    "## Code cells\n",
    "\n",
    "**Task 1.3.1.** Below, you see a code cell. Click on this cell and press `[Ctrl]`+`[⏎]` to run this cell. Notice how the output of the Python instructions (printing a specific line of text) magically appears within the *Output* section of the code cell!"
   ]
  },
  {
   "cell_type": "code",
   "execution_count": null,
   "metadata": {},
   "outputs": [],
   "source": [
    "print('Welcome to Python Programming!')"
   ]
  },
  {
   "cell_type": "markdown",
   "metadata": {},
   "source": [
    "**Task 1.3.2.** Modify the above code cell. For example, change the welcome text, add a second `print`-statement, etc."
   ]
  },
  {
   "cell_type": "markdown",
   "metadata": {},
   "source": [
    "## Markdown cells\n",
    "\n",
    "⚠️ Do *not* spend more than 10–15 minutes for the **Tasks 1.3.3–1.3.5**!"
   ]
  },
  {
   "cell_type": "markdown",
   "metadata": {},
   "source": [
    "**Task 1.3.3.** Below you see an empty code cell. Select the cell by clicking on it. Then, head to the \"Cell\" menu, look into the \"Cell Type\" sub-menu, and finally choose \"Markdown\". Then, type `The job was done.` into the cell and again press `[Ctrl]`+`[⏎]`. Notice how this time no code is executed, but your entered text rather becomes a part of the text flow of the notebook."
   ]
  },
  {
   "cell_type": "code",
   "execution_count": null,
   "metadata": {},
   "outputs": [],
   "source": []
  },
  {
   "cell_type": "markdown",
   "metadata": {},
   "source": [
    "**Task 1.3.4.** Markdown is not only about plain boring text. It is a very simple and widely used hypertext language which allows text formating. Make yourself a little familiar with the Markdown syntax by [clicking here](https://jupyter-notebook.readthedocs.io/en/stable/examples/Notebook/Working%20With%20Markdown%20Cells.html).\n",
    "\n",
    "**Task 1.3.5.** Double-click on your previously created Markdown cell above to enter its editing mode. Change the text, experiment with the Markdown language. For example, add some words, make words bold-typed, etc. You can also embed a YouTube video."
   ]
  },
  {
   "cell_type": "markdown",
   "metadata": {},
   "source": [
    "## Extending the notebook\n",
    "\n",
    "Notice the line of buttons at the top edge of the screen: ![screenshot](images/jupyter-toolbar.png)\n",
    "\n",
    "Using these buttons allows you to control the notebook (and its cells).\n",
    "\n",
    "**Task 1.3.6.** Feel free to play around with the cell structure of this notebook. Make yourself familiar with how cells are added, moved, and copied. However, if you feel like you could use some guidance, then follow these instructions:\n",
    "\n",
    "1. Using the line of buttons at the top edge of the screen, create a new cell by clicking on the `+` button.\n",
    "2. Enter the code `2+3` into the input section of the newly created cell.\n",
    "3. Make sure that the cell is still selected, then press `[Ctrl]`+`[⏎]` to run the code.\n",
    "4. Notice how the arithmetical result appears.\n",
    "5. Use the line of buttons at the top edge of the screen to move around the cells of the notebook.\n",
    "\n",
    "**Task 1.3.7.** Return to your assignment sheet when you feel like you have gotten an idea of how notebooks work."
   ]
  }
 ],
 "metadata": {
  "kernelspec": {
   "display_name": "Python 3",
   "language": "python",
   "name": "python3"
  },
  "language_info": {
   "codemirror_mode": {
    "name": "ipython",
    "version": 3
   },
   "file_extension": ".py",
   "mimetype": "text/x-python",
   "name": "python",
   "nbconvert_exporter": "python",
   "pygments_lexer": "ipython3",
   "version": "3.11.6"
  }
 },
 "nbformat": 4,
 "nbformat_minor": 2
}
